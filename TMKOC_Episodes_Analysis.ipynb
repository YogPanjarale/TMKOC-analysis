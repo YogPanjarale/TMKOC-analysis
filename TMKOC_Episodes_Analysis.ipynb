{
  "nbformat": 4,
  "nbformat_minor": 0,
  "metadata": {
    "colab": {
      "name": "TMKOC Episodes Analysis .ipynb",
      "provenance": [],
      "collapsed_sections": [],
      "authorship_tag": "ABX9TyN/me7J772izLEOvG8iv+Ek",
      "include_colab_link": true
    },
    "kernelspec": {
      "name": "python3",
      "display_name": "Python 3"
    },
    "language_info": {
      "name": "python"
    }
  },
  "cells": [
    {
      "cell_type": "markdown",
      "metadata": {
        "id": "view-in-github",
        "colab_type": "text"
      },
      "source": [
        "<a href=\"https://colab.research.google.com/github/YogPanjarale/TMKOC-analysis/blob/main/TMKOC_Episodes_Analysis.ipynb\" target=\"_parent\"><img src=\"https://colab.research.google.com/assets/colab-badge.svg\" alt=\"Open In Colab\"/></a>"
      ]
    },
    {
      "cell_type": "markdown",
      "source": [
        "# Analysis of No. Of Episodes per Story in TMKOC\n",
        "\n",
        "## Sources / Inspiration \n",
        "\n",
        "- https://www.youtube.com/watch?v=Rkq6yHZtw0k\n",
        "- https://en.wikipedia.org/wiki/Taarak_Mehta_Ka_Ooltah_Chashmah\n",
        "\n",
        "## Why \n",
        "\n",
        "- I felt tmkoc show is becomming less interesting over time so i thought to do a analysis over it\n",
        "- To Prove The lack of new stories in the show in past years \n",
        "- Just out of Curiosity & Just Because"
      ],
      "metadata": {
        "id": "72OHM7_v3L83"
      }
    },
    {
      "cell_type": "code",
      "execution_count": null,
      "metadata": {
        "id": "wj9jfa15l0JH"
      },
      "outputs": [],
      "source": [
        "# Imports\n",
        "import requests\n",
        "import numpy as np\n",
        "import pandas as pd\n",
        "from bs4 import BeautifulSoup\n",
        "import matplotlib.pyplot as plt\n",
        "\n",
        "%matplotlib inline"
      ]
    },
    {
      "cell_type": "code",
      "source": [
        "# Wiki Page\n",
        "wiki_url = \"https://en.wikipedia.org/wiki/Taarak_Mehta_Ka_Ooltah_Chashmah\"\n",
        "\n",
        "# Use requests to retrieve data from a given URL\n",
        "wiki_response = requests.get(wiki_url)\n",
        "\n",
        "# Parse the whole HTML page using BeautifulSoup\n",
        "wiki_soup = BeautifulSoup(wiki_response.text, 'html.parser')\n",
        "\n",
        "# Title of the parsed page\n",
        "wiki_soup.title.string"
      ],
      "metadata": {
        "colab": {
          "base_uri": "https://localhost:8080/",
          "height": 35
        },
        "id": "Jua08HdsmcGL",
        "outputId": "23e60514-cfdc-4883-8a27-92533e250835"
      },
      "execution_count": null,
      "outputs": [
        {
          "output_type": "execute_result",
          "data": {
            "text/plain": [
              "'Taarak Mehta Ka Ooltah Chashmah - Wikipedia'"
            ],
            "application/vnd.google.colaboratory.intrinsic+json": {
              "type": "string"
            }
          },
          "metadata": {},
          "execution_count": 3
        }
      ]
    },
    {
      "cell_type": "code",
      "source": [
        "# Extracting Content\n",
        "stories = wiki_soup.findAll(\"tr\",{'class':'vevent'})\n",
        "story_names = [a.td.text for a in stories]\n",
        "story_ranges = [a.th.text for a in stories]\n",
        "len(story_ranges),len(story_names)"
      ],
      "metadata": {
        "colab": {
          "base_uri": "https://localhost:8080/"
        },
        "id": "eMa6wkxYmwF0",
        "outputId": "db28f521-a428-4f68-b09c-5fff68450182"
      },
      "execution_count": null,
      "outputs": [
        {
          "output_type": "execute_result",
          "data": {
            "text/plain": [
              "(221, 221)"
            ]
          },
          "metadata": {},
          "execution_count": 12
        }
      ]
    },
    {
      "cell_type": "code",
      "source": [
        "# Formatting into dataframe\n",
        "story_ranges_list_string  = [ a.split(\"–\") for a in story_ranges]\n",
        "story_ranges_nums = [ list(range(int(a[0]),int(a[1]))) if len(a) ==2 else [int(a[0])] for a in story_ranges_list_string]\n",
        "story_ranges_start = [a[0] for a in story_ranges_nums]\n",
        "story_ranges_end = [a[-1] for a in story_ranges_nums]\n",
        "story_ranges_lens = [len(a) for a in story_ranges_nums]\n",
        "widths = [a/10 for a in story_ranges_lens]\n",
        "d = {\"name\": story_names,\"width\":\"widths\", \"range\":story_ranges,\"start\":story_ranges_start,\"end\":story_ranges_end,\"length\":story_ranges_lens}\n",
        "\n",
        "df = pd.DataFrame(data=d)\n",
        "df"
      ],
      "metadata": {
        "colab": {
          "base_uri": "https://localhost:8080/",
          "height": 423
        },
        "id": "W5i5BqVnn9N7",
        "outputId": "ece2b409-62e6-4d56-91ce-ecdb664f35ab"
      },
      "execution_count": null,
      "outputs": [
        {
          "output_type": "execute_result",
          "data": {
            "text/plain": [
              "                               name   width      range  start   end  length\n",
              "0                    \"Introduction\"  widths          1      1     1       1\n",
              "1                \"Mischievous Tapu\"  widths        2–5      2     4       3\n",
              "2            \"Champaklal's Arrival\"  widths        6–7      6     6       1\n",
              "3                     \"Heavy Rains\"  widths        8–9      8     8       1\n",
              "4              \"Champaklal's Phone\"  widths      10–11     10    10       1\n",
              "..                              ...     ...        ...    ...   ...     ...\n",
              "216       \"Tapu and Sonu as Couple\"  widths       3368   3368  3368       1\n",
              "217               \"The Second Deal\"  widths  3369–3373   3369  3372       4\n",
              "218                  \"Party Sharty\"  widths  3373–3384   3373  3383      11\n",
              "219             \"Popatlal vs Bhide\"  widths  3385–3387   3385  3386       2\n",
              "220  \"Pompom the cat in Golkuhdham\"  widths  3388–3410   3388  3409      22\n",
              "\n",
              "[221 rows x 6 columns]"
            ],
            "text/html": [
              "\n",
              "  <div id=\"df-c8ea097e-5101-4bbc-b4a5-0860232a2671\">\n",
              "    <div class=\"colab-df-container\">\n",
              "      <div>\n",
              "<style scoped>\n",
              "    .dataframe tbody tr th:only-of-type {\n",
              "        vertical-align: middle;\n",
              "    }\n",
              "\n",
              "    .dataframe tbody tr th {\n",
              "        vertical-align: top;\n",
              "    }\n",
              "\n",
              "    .dataframe thead th {\n",
              "        text-align: right;\n",
              "    }\n",
              "</style>\n",
              "<table border=\"1\" class=\"dataframe\">\n",
              "  <thead>\n",
              "    <tr style=\"text-align: right;\">\n",
              "      <th></th>\n",
              "      <th>name</th>\n",
              "      <th>width</th>\n",
              "      <th>range</th>\n",
              "      <th>start</th>\n",
              "      <th>end</th>\n",
              "      <th>length</th>\n",
              "    </tr>\n",
              "  </thead>\n",
              "  <tbody>\n",
              "    <tr>\n",
              "      <th>0</th>\n",
              "      <td>\"Introduction\"</td>\n",
              "      <td>widths</td>\n",
              "      <td>1</td>\n",
              "      <td>1</td>\n",
              "      <td>1</td>\n",
              "      <td>1</td>\n",
              "    </tr>\n",
              "    <tr>\n",
              "      <th>1</th>\n",
              "      <td>\"Mischievous Tapu\"</td>\n",
              "      <td>widths</td>\n",
              "      <td>2–5</td>\n",
              "      <td>2</td>\n",
              "      <td>4</td>\n",
              "      <td>3</td>\n",
              "    </tr>\n",
              "    <tr>\n",
              "      <th>2</th>\n",
              "      <td>\"Champaklal's Arrival\"</td>\n",
              "      <td>widths</td>\n",
              "      <td>6–7</td>\n",
              "      <td>6</td>\n",
              "      <td>6</td>\n",
              "      <td>1</td>\n",
              "    </tr>\n",
              "    <tr>\n",
              "      <th>3</th>\n",
              "      <td>\"Heavy Rains\"</td>\n",
              "      <td>widths</td>\n",
              "      <td>8–9</td>\n",
              "      <td>8</td>\n",
              "      <td>8</td>\n",
              "      <td>1</td>\n",
              "    </tr>\n",
              "    <tr>\n",
              "      <th>4</th>\n",
              "      <td>\"Champaklal's Phone\"</td>\n",
              "      <td>widths</td>\n",
              "      <td>10–11</td>\n",
              "      <td>10</td>\n",
              "      <td>10</td>\n",
              "      <td>1</td>\n",
              "    </tr>\n",
              "    <tr>\n",
              "      <th>...</th>\n",
              "      <td>...</td>\n",
              "      <td>...</td>\n",
              "      <td>...</td>\n",
              "      <td>...</td>\n",
              "      <td>...</td>\n",
              "      <td>...</td>\n",
              "    </tr>\n",
              "    <tr>\n",
              "      <th>216</th>\n",
              "      <td>\"Tapu and Sonu as Couple\"</td>\n",
              "      <td>widths</td>\n",
              "      <td>3368</td>\n",
              "      <td>3368</td>\n",
              "      <td>3368</td>\n",
              "      <td>1</td>\n",
              "    </tr>\n",
              "    <tr>\n",
              "      <th>217</th>\n",
              "      <td>\"The Second Deal\"</td>\n",
              "      <td>widths</td>\n",
              "      <td>3369–3373</td>\n",
              "      <td>3369</td>\n",
              "      <td>3372</td>\n",
              "      <td>4</td>\n",
              "    </tr>\n",
              "    <tr>\n",
              "      <th>218</th>\n",
              "      <td>\"Party Sharty\"</td>\n",
              "      <td>widths</td>\n",
              "      <td>3373–3384</td>\n",
              "      <td>3373</td>\n",
              "      <td>3383</td>\n",
              "      <td>11</td>\n",
              "    </tr>\n",
              "    <tr>\n",
              "      <th>219</th>\n",
              "      <td>\"Popatlal vs Bhide\"</td>\n",
              "      <td>widths</td>\n",
              "      <td>3385–3387</td>\n",
              "      <td>3385</td>\n",
              "      <td>3386</td>\n",
              "      <td>2</td>\n",
              "    </tr>\n",
              "    <tr>\n",
              "      <th>220</th>\n",
              "      <td>\"Pompom the cat in Golkuhdham\"</td>\n",
              "      <td>widths</td>\n",
              "      <td>3388–3410</td>\n",
              "      <td>3388</td>\n",
              "      <td>3409</td>\n",
              "      <td>22</td>\n",
              "    </tr>\n",
              "  </tbody>\n",
              "</table>\n",
              "<p>221 rows × 6 columns</p>\n",
              "</div>\n",
              "      <button class=\"colab-df-convert\" onclick=\"convertToInteractive('df-c8ea097e-5101-4bbc-b4a5-0860232a2671')\"\n",
              "              title=\"Convert this dataframe to an interactive table.\"\n",
              "              style=\"display:none;\">\n",
              "        \n",
              "  <svg xmlns=\"http://www.w3.org/2000/svg\" height=\"24px\"viewBox=\"0 0 24 24\"\n",
              "       width=\"24px\">\n",
              "    <path d=\"M0 0h24v24H0V0z\" fill=\"none\"/>\n",
              "    <path d=\"M18.56 5.44l.94 2.06.94-2.06 2.06-.94-2.06-.94-.94-2.06-.94 2.06-2.06.94zm-11 1L8.5 8.5l.94-2.06 2.06-.94-2.06-.94L8.5 2.5l-.94 2.06-2.06.94zm10 10l.94 2.06.94-2.06 2.06-.94-2.06-.94-.94-2.06-.94 2.06-2.06.94z\"/><path d=\"M17.41 7.96l-1.37-1.37c-.4-.4-.92-.59-1.43-.59-.52 0-1.04.2-1.43.59L10.3 9.45l-7.72 7.72c-.78.78-.78 2.05 0 2.83L4 21.41c.39.39.9.59 1.41.59.51 0 1.02-.2 1.41-.59l7.78-7.78 2.81-2.81c.8-.78.8-2.07 0-2.86zM5.41 20L4 18.59l7.72-7.72 1.47 1.35L5.41 20z\"/>\n",
              "  </svg>\n",
              "      </button>\n",
              "      \n",
              "  <style>\n",
              "    .colab-df-container {\n",
              "      display:flex;\n",
              "      flex-wrap:wrap;\n",
              "      gap: 12px;\n",
              "    }\n",
              "\n",
              "    .colab-df-convert {\n",
              "      background-color: #E8F0FE;\n",
              "      border: none;\n",
              "      border-radius: 50%;\n",
              "      cursor: pointer;\n",
              "      display: none;\n",
              "      fill: #1967D2;\n",
              "      height: 32px;\n",
              "      padding: 0 0 0 0;\n",
              "      width: 32px;\n",
              "    }\n",
              "\n",
              "    .colab-df-convert:hover {\n",
              "      background-color: #E2EBFA;\n",
              "      box-shadow: 0px 1px 2px rgba(60, 64, 67, 0.3), 0px 1px 3px 1px rgba(60, 64, 67, 0.15);\n",
              "      fill: #174EA6;\n",
              "    }\n",
              "\n",
              "    [theme=dark] .colab-df-convert {\n",
              "      background-color: #3B4455;\n",
              "      fill: #D2E3FC;\n",
              "    }\n",
              "\n",
              "    [theme=dark] .colab-df-convert:hover {\n",
              "      background-color: #434B5C;\n",
              "      box-shadow: 0px 1px 3px 1px rgba(0, 0, 0, 0.15);\n",
              "      filter: drop-shadow(0px 1px 2px rgba(0, 0, 0, 0.3));\n",
              "      fill: #FFFFFF;\n",
              "    }\n",
              "  </style>\n",
              "\n",
              "      <script>\n",
              "        const buttonEl =\n",
              "          document.querySelector('#df-c8ea097e-5101-4bbc-b4a5-0860232a2671 button.colab-df-convert');\n",
              "        buttonEl.style.display =\n",
              "          google.colab.kernel.accessAllowed ? 'block' : 'none';\n",
              "\n",
              "        async function convertToInteractive(key) {\n",
              "          const element = document.querySelector('#df-c8ea097e-5101-4bbc-b4a5-0860232a2671');\n",
              "          const dataTable =\n",
              "            await google.colab.kernel.invokeFunction('convertToInteractive',\n",
              "                                                     [key], {});\n",
              "          if (!dataTable) return;\n",
              "\n",
              "          const docLinkHtml = 'Like what you see? Visit the ' +\n",
              "            '<a target=\"_blank\" href=https://colab.research.google.com/notebooks/data_table.ipynb>data table notebook</a>'\n",
              "            + ' to learn more about interactive tables.';\n",
              "          element.innerHTML = '';\n",
              "          dataTable['output_type'] = 'display_data';\n",
              "          await google.colab.output.renderOutput(dataTable, element);\n",
              "          const docLink = document.createElement('div');\n",
              "          docLink.innerHTML = docLinkHtml;\n",
              "          element.appendChild(docLink);\n",
              "        }\n",
              "      </script>\n",
              "    </div>\n",
              "  </div>\n",
              "  "
            ]
          },
          "metadata": {},
          "execution_count": 34
        }
      ]
    },
    {
      "cell_type": "code",
      "source": [
        "# Plotting Bar Graph\n",
        "import plotly.express as px\n",
        "fig = px.line(df, x='start', y='length' ,title=\"Taarak Mehta Story vs No. of Episodes\"\n",
        ",hover_data= [\"name\",\"range\"],labels={\"start\":\"Story Start Episode No.\",\"length\":\"No. Episodes in Story\",\"name\":\"Name\"},markers=True)\n",
        "fig.show()"
      ],
      "metadata": {
        "id": "05JiufW5t9bE",
        "colab": {
          "base_uri": "https://localhost:8080/",
          "height": 542
        },
        "outputId": "73bb47a4-274b-444b-d90a-040e6c89304d"
      },
      "execution_count": 46,
      "outputs": [
        {
          "output_type": "display_data",
          "data": {
            "text/html": [
              "<html>\n",
              "<head><meta charset=\"utf-8\" /></head>\n",
              "<body>\n",
              "    <div>            <script src=\"https://cdnjs.cloudflare.com/ajax/libs/mathjax/2.7.5/MathJax.js?config=TeX-AMS-MML_SVG\"></script><script type=\"text/javascript\">if (window.MathJax) {MathJax.Hub.Config({SVG: {font: \"STIX-Web\"}});}</script>                <script type=\"text/javascript\">window.PlotlyConfig = {MathJaxConfig: 'local'};</script>\n",
              "        <script src=\"https://cdn.plot.ly/plotly-2.8.3.min.js\"></script>                <div id=\"e38642e0-0bcc-46b1-b205-0ed7b3e6e081\" class=\"plotly-graph-div\" style=\"height:525px; width:100%;\"></div>            <script type=\"text/javascript\">                                    window.PLOTLYENV=window.PLOTLYENV || {};                                    if (document.getElementById(\"e38642e0-0bcc-46b1-b205-0ed7b3e6e081\")) {                    Plotly.newPlot(                        \"e38642e0-0bcc-46b1-b205-0ed7b3e6e081\",                        [{\"customdata\":[[\"\\\"Introduction\\\"\",\"1\"],[\"\\\"Mischievous Tapu\\\"\",\"2\\u20135\"],[\"\\\"Champaklal's Arrival\\\"\",\"6\\u20137\"],[\"\\\"Heavy Rains\\\"\",\"8\\u20139\"],[\"\\\"Champaklal's Phone\\\"\",\"10\\u201311\"],[\"\\\"Samuhik Rakshabandhan\\\"\",\"12\\u201313\"],[\"\\\"Jethalal Kidnapped\\\"\",\"14\\u201315\"],[\"\\\"Janamashtami (2008)\\\"\",\"16\\u201317\"],[\"\\\"Champaklal as Tapu's Father\\\"\",\"18\"],[\"\\\"Chingur Baba's help\\\"\",\"19\\u201320\"],[\"\\\"Kevra Teej\\\"\",\"21\\u201322\"],[\"\\\"Ganesh Utsav (2008)\\\"\",\"23\\u201327\"],[\"\\\"Hasya Kavi Sammelan\\\"\",\"28\\u201329\"],[\"\\\"Helpless Husbands\\\"\",\"30\\u201334\"],[\"\\\"Tapu Sena & Television\\\"\",\"35\\u201338\"],[\"\\\"Navratri (2008)\\\"\",\"39\\u201344\"],[\"\\\"Kidney for Shaikh\\\"\",\"45\\u201349\"],[\"\\\"Diwali (2008)\\\"\",\"50\\u201354\"],[\"\\\"Sundar's Scheme\\\"\",\"55\\u201361\"],[\"\\\"Havan to end TV strike\\\"\",\"62\\u201363\"],[\"\\\"Tapu sena strike in school\\\"\",\"64\\u201365\"],[\"\\\"Jethalal's affair with Sweety\\\"\",\"66\\u201369\"],[\"\\\"Tapu's Wedding\\\"\",\"70\\u201383\"],[\"\\\"Drunk Sodhi on Terrace\\\"\",\"84\\u201386\"],[\"\\\"Lohri Eve\\\"\",\"87\"],[\"\\\"Makar Sankranti\\\"\",\"88\\u201389\"],[\"\\\"Dr. Hathi stuck in Rickshaw\\\"\",\"90\\u201391\"],[\"\\\"Republic Day plans\\\"\",\"92\\u201393\"],[\"\\\"Cultural Dance Program\\\"\",\"94\\u201395\"],[\"\\\"Jethalal Fitness\\\"\",\"96\\u2013100\"],[\"\\\"Donations leads to Jail\\\"\",\"100\\u2013106\"],[\"\\\"Lovely Housemaid\\\"\",\"107\\u2013114\"],[\"\\\"Bhide swallows a whistle\\\"\",\"115\\u2013117\"],[\"\\\"Holi with Duplicate Shahrukh and Sachin\\\"\",\"118\\u2013122\"],[\"\\\"Chaggan, Maggan and 25000 rupee\\\"\",\"122\\u2013125\"],[\"\\\"Vinay Pathak in Society\\\"\",\"125\"],[\"\\\"Tapu Sena exams scam\\\"\",\"126\\u2013129\"],[\"\\\"Iyer and Babita fight\\\"\",\"130\\u2013132\"],[\"\\\"Mahavir Jayanti\\\"\",\"133\\u2013134\"],[\"\\\"Dental Camp in Gokuldham & Jethalal Toothache\\\"\",\"135\\u2013138\"],[\"\\\"Meenakshi Detergent\\\"\",\"139\\u2013142\"],[\"\\\"Tiku Ji ki Wadi Trip\\\"\",\"143\\u2013147\"],[\"\\\"Daya and Madhavi Fight in Kitty Party\\\"\",\"148\\u2013152\"],[\"\\\"Thieves\\\"\",\"153\\u2013163\"],[\"\\\"Tobacco Free Mumbai\\\"\",\"164\"],[\"\\\"Patrakar Popatlal\\\"\",\"165\\u2013168\"],[\"\\\"Daya's Maun Vrat\\\"\",\"169\\u2013173\"],[\"\\\"GPL 1\\\"\",\"174\\u2013184\"],[\"\\\"Jethalal Gets Annoyed by a Kid\\\"\",\"185\\u2013187\"],[\"\\\"Jethalal London Trip and Kerry in India\\\"\",\"205\\u2013244\"],[\"\\\"Tapu Sena Audition\\\"\",\"259\\u2013272\"],[\"\\\"Holi (2010)\\\"\",\"325\\u2013331\"],[\"\\\"Saree sale at Bhatiawadi\\\"\",\"355\\u2013364\"],[\"\\\"Childhood Games\\\"\",\"367\\u2013371\"],[\"\\\"GPL 2\\\"\",\"390\\u2013402\"],[\"\\\"Sodhi meets Irfan Pathan\\\"\",\"403\\u2013409\"],[\"\\\"Shampoo Massage\\\"\",\"409\\u2013412\"],[\"\\\"Ghost In Gokuldham\\\"\",\"413\\u2013425\"],[\"\\\"Popatlal and Koyal\\\"\",\"426\\u2013434\"],[\"\\\"Eid Celebration\\\"\",\"435\\u2013436\"],[\"\\\"Dahi Handi (2010)\\\"\",\"437\\u2013444\"],[\"\\\"Ganesh Utsav (2010)\\\"\",\"445\\u2013452\"],[\"\\\"Babita & Iyer's marriage anniversary\\\"\",\"461\\u2013471\"],[\"\\\"Chandiramani Flat Auction\\\"\",\"474\\u2013481\"],[\"\\\"Goli Misses His Father\\\"\",\"482\\u2013483\"],[\"\\\"Daya doesn't respond from locked home\\\"\",\"488\\u2013491\"],[\"\\\"Magic Show in Society\\\"\",\"492\\u2013498\"],[\"\\\"Ladies get credit cards\\\"\",\"501\\u2013506\"],[\"\\\"Paint cans delivered to Jethalal\\\"\",\"507\\u2013510\"],[\"\\\"Tapu goes bald\\\"\",\"537\\u2013541\"],[\"\\\"Baijanti's wrong number\\\"\",\"541\\u2013550\"],[\"\\\"Mahashivratri\\\"\",\"551\\u2013558\"],[\"\\\"Sundar's 30 lakh scam\\\"\",\"564\\u2013572\"],[\"\\\"Bhide's 1 Crore Email Fraud\\\"\",\"578\\u2013587\"],[\"\\\"Jetha's Dadaji's Photo\\\"\",\"588\\u2013596\"],[\"\\\"Sodhi Swallows Glass\\\"\",\"597\\u2013604\"],[\"\\\"Bhide Sells Mangoes\\\"\",\"605\\u2013614\"],[\"\\\"Tapu Sena Hunger Strike\\\"\",\"615\\u2013620\"],[\"\\\"Ready\\\"\",\"621\\u2013622\"],[\"\\\"Gokuldham Khel Mahotsav\\\"\",\"623\\u2013637\"],[\"\\\"Chaddi Gang Part 1\\\"\",\"638\\u2013646\"],[\"\\\"Popatlal and his umbrella\\\"\",\"647\\u2013653\"],[\"\\\"Extra class\\\"\",\"653\\u2013658\"],[\"\\\"Chaddi Gang Part 2\\\"\",\"659\\u2013677\"],[\"\\\"Janmashtamani (2011)\\\"\",\"678\"],[\"\\\"Dahi handi (2011)\\\"\",\"679\\u2013681\"],[\"\\\"Ganesh Utsav (2011)\\\"\",\"686\\u2013695\"],[\"\\\"The 80,000-horse statue\\\"\",\"701\\u2013706\"],[\"\\\"Navratri (2011)\\\"\",\"707\\u2013710\"],[\"\\\"Dusherra (2011)\\\"\",\"711\\u2013715\"],[\"\\\"Iyer's interview in the newspaper\\\"\",\"719\\u2013722\"],[\"\\\"Babita and Iyer buy a fridge\\\"\",\"723\\u2013725\"],[\"\\\"Diwali (2011)\\\"\",\"726\\u2013728\"],[\"\\\"Lottery tickets\\\"\",\"729\\u2013732\"],[\"\\\"Bhide's new pair of glasses\\\"\",\"785\\u2013789\"],[\"\\\"Jethalal In Pakistan\\\"\",\"790\\u2013810\"],[\"\\\"Popatlal, Se\\u00f1orita & Kalavati\\\"\",\"811\\u2013818\"],[\"\\\"Society Renovation by Sundarlal\\\"\",\"825\\u2013839\"],[\"\\\"Disco Dance Competition\\\"\",\"840\\u2013847\"],[\"\\\"Abdul's New Shop\\\"\",\"848\\u2013851\"],[\"\\\"Girvi Gehne\\\"\",\"852\\u2013856\"],[\"\\\"Gandhi Maidaan\\\"\",\"857\\u2013867\"],[\"\\\"Iyer forgets his briefcase\\\"\",\"868\\u2013870\"],[\"\\\"Mother's Day\\\"\",\"871\\u2013872\"],[\"\\\"Lord Ganesh Sculpture\\\"\",\"873\\u2013878\"],[\"\\\"Jethalal Gets Electric Shock\\\"\",\"881\\u2013886\"],[\"\\\"Society Bhangaar\\\"\",\"887\\u2013891\"],[\"\\\"Ferrari Ki Sawaari\\\"\",\"891\\u2013896\"],[\"\\\"Jethalal fights with everyone\\\"\",\"897\\u2013901\"],[\"\\\"Bol Bachchan press conference\\\"\",\"905\\u2013911\"],[\"\\\"Bhide's moustache\\\"\",\"912\\u2013914\"],[\"\\\"Jethalal gives bribe\\\"\",\"915\\u2013922\"],[\"\\\"Choco Moco Chocolate\\\"\",\"923\\u2013928\"],[\"\\\"Raksha-bandhan (2012)\\\"\",\"929\\u2013932\"],[\"\\\"Dahi Handi (2012)\\\"\",\"933\\u2013941\"],[\"\\\"Eid (2012)\\\"\",\"942\\u2013945\"],[\"\\\"Jethalal and Passport\\\"\",\"946\\u2013951\"],[\"\\\"Barfi\\\"\",\"952\\u2013963\"],[\"\\\"Ganesh Utsav (2012)\\\"\",\"968\\u2013980\"],[\"\\\"Sundar brings Chanya-Choli\\\"\",\"983\\u20131000\"],[\"\\\"1000 Episodes Celebration\\\"\",\"1001\\u20131009\"],[\"\\\"Blind people donation\\\"\",\"1010\\u20131018\"],[\"\\\"Jewellery Shopping\\\"\",\"1019\\u20131024\"],[\"\\\"Gulabo\\\"\",\"1025\\u20131056\"],[\"\\\"Republic Day (2013)\\\"\",\"1057\\u20131060\"],[\"\\\"Tapu Sena's new smartphones\\\"\",\"1061\\u20131080\"],[\"\\\"Bharti\\\"\",\"1081\\u20131088\"],[\"\\\"Sheru\\\"\",\"1089\\u20131112\"],[\"\\\"Gogi at the Gada's\\\"\",\"1113\\u20131119\"],[\"\\\"Sangram Singh Mangoes Orchard\\\"\",\"1120\\u20131131\"],[\"\\\"Babita's phone number\\\"\",\"1132\\u20131137\"],[\"\\\"Trucks in Gokuldham\\\"\",\"1145\\u20131153\"],[\"\\\"Khote Classes\\\"\",\"1154\\u20131174\"],[\"\\\"Taarak's affair with Kavita\\\"\",\"1175\\u20131185\"],[\"\\\"Gokuldham Society is Sold?\\\"\",\"1187\\u20131194\"],[\"\\\"Tapu and Champaklal in Paris\\\"\",\"1195\\u20131202\"],[\"\\\"Independence Day (2013)\\\"\",\"1203\\u20131206\"],[\"\\\"Raksha Bandhan in Ahmedabad\\\"\",\"1207\\u20131212\"],[\"\\\"Dahihandi (2013)\\\"\",\"1213\\u20131218\"],[\"\\\"Ganpati Utsav (2013)\\\"\",\"1227\\u20131234\"],[\"\\\"Jethalal is stalked\\\"\",\"1219\\u20131225\"],[\"\\\"25000 rupees envelope\\\"\",\"1251\\u20131254\"],[\"\\\"Champaklal's Hiccups\\\"\",\"1254\\u20131258\"],[\"\\\"Bhide's antique radio\\\"\",\"1259\\u20131264\"],[\"\\\"Sachin Tendulkar retirement\\\"\",\"1265\\u20131269\"],[\"\\\"Necklace Fraud\\\"\",\"1270\\u20131278\"],[\"\\\"Popatlal and Bulbul\\\"\",\"1285\\u20131308\"],[\"\\\"Fitness Camp\\\"\",\"1327\\u20131341\"],[\"\\\"Anjali demands a surprise gift\\\"\",\"1342\\u20131346\"],[\"\\\"Tapu Sena extra classes\\\"\",\"1347\\u20131353\"],[\"\\\"Bhide-Madhavi anniversary\\\"\",\"1354\\u20131361\"],[\"\\\"Holi (2014)\\\"\",\"1362\\u20131364\"],[\"\\\"Youngistaan\\\"\",\"1365\\u20131369\"],[\"\\\"Sodhi is Missing\\\"\",\"1370\\u20131378\"],[\"\\\"Varun Dhawan in Gokuldham\\\"\",\"1379\\u20131380\"],[\"\\\"Bhoothnath Returns\\\"\",\"1382\\u20131387\"],[\"\\\"Adventure Park Surprise\\\"\",\"1408\\u20131419\"],[\"\\\"Iyyer's Promotion Party\\\"\",\"1420\\u20131425\"],[\"\\\"GPL 3\\\"\",\"1426\\u20131445\"],[\"\\\"10 Crore Ruby\\\"\",\"1447\\u20131465\"],[\"\\\"Hongkong-Disneyland trip\\\"\",\"1465\\u20131478\"],[\"\\\"Ganesh Utsav (2014)\\\"\",\"1489\\u20131499\"],[\"\\\"Bhide's surprise treat (1500 Episodes Celebration)\\\"\",\"1500\\u20131507\"],[\"\\\"Swachh Bharat Abhiyaan\\\"\",\"1518\\u20131524\"],[\"\\\"Diwali (2014)\\\"\",\"1525\\u20131532\"],[\"\\\"Popatlal purchases a new phone\\\"\",\"1533\\u20131541\"],[\"\\\"Daya's Mother\\\"\",\"1546\\u20131557\"],[\"\\\"Kathiawadi food\\\"\",\"1566\\u20131572\"],[\"\\\"Champaklal is drunk?/New Year (2015)\\\"\",\"1573\\u20131585\"],[\"\\\"Bhide's Sakharam\\\"\",\"1589\\u20131595\"],[\"\\\"Winter Party\\\"\",\"1599\\u20131609\"],[\"\\\"Hey Bro\\\"\",\"1611\"],[\"\\\"Bawri brings luck to Gada Electronics\\\"\",\"1624\\u20131629\"],[\"\\\"Daya brings a baby girl to Gokuldham\\\"\",\"1640\\u20131663\"],[\"\\\"Tapu Sena's SSC result and college admission\\\"\",\"1686\\u20131723\"],[\"\\\"Interior renovation\\\"\",\"1758\\u20131808\"],[\"\\\"Conspiracy against Tapu\\\"\",\"1822\\u20131824\"],[\"\\\"Prof. Nalini's Rishta with Popatlal\\\"\",\"1824\\u20131826\"],[\"\\\"Promotion of Dilwale\\\"\",\"1827\\u20131829\"],[\"\\\"Babita's image on the Tobacco hoarding\\\"\",\"1831\\u20131842\"],[\"\\\"The gold biscuit briefcase\\\"\",\"1868\\u20131888\"],[\"\\\"Iyer-Babita Divorce\\\"\",\"1909\\u20131934\"],[\"\\\"10 crore saree\\\"\",\"2007\\u20132022\"],[\"\\\"Ganesh Utsav (2016)\\\"\",\"2023\\u20132030\"],[\"\\\"Ghanchakkar In Shop\\\"\",\"2095\\u20132102\"],[\"\\\"Goa trip\\\"\",\"2235\\u20132246\"],[\"\\\"Mubarakan Team In Gokhuldam\\\"\",\"2247\"],[\"\\\"Ganesh Utsav (2017)\\\"\",\"2283\\u20132290\"],[\"\\\"Pinku's Parents\\\"\",\"2384\\u20132415\"],[\"\\\"Se\\u00f1orika Island\\\"\",\"2493\\u20132511\"],[\"\\\"Gada Electronics on sale\\\"\",\"2605\\u20132632\"],[\"\\\"Statue of Unity trip\\\"\",\"2644\\u20132649\"],[\"\\\"Singapore trip\\\"\",\"2693\\u20132708\"],[\"\\\"Ganesh Utsav (2019)\\\"\",\"2812\\u20132824\"],[\"\\\"Ganesh Utsav (2020)\\\"\",\"2982\\u20132996\"],[\"\\\"Abdul has corona?\\\"\",\"3004\\u20133008\"],[\"\\\"Romantic song\\\"\",\"3009\"],[\"\\\"Musical memory of S. P. Balasubrahmanyam\\\"\",\"3010\"],[\"\\\"Life in lockdown\\\"\",\"3014\\u20133017\"],[\"\\\"Navratri 2020\\\"\",\"3020\\u20133026\"],[\"\\\"Online meeting\\\"\",\"3029\\u20133030\"],[\"\\\"Jethalal fights corona\\\"\",\"3032\\u20133033\"],[\"\\\"Popatlal loses job\\\"\",\"3035\\u20133050\"],[\"\\\"Tapu Sena's Pizza Party\\\"\",\"3051\\u20133062\"],[\"\\\"New Year Party 2021\\\"\",\"3063\\u20133071\"],[\"\\\"Popatlal's shaadi\\\"\",\"3074\\u20133083\"],[\"\\\"Popatlal And Pooja\\\"\",\"3140\\u20133147\"],[\"\\\"Popatlal on Mission Kala Kauva\\\"\",\"3158\\u20133193\"],[\"\\\"Gokuldham in Rang Tarang Resort\\\"\",\"3194\\u20133221\"],[\"\\\"Bhide's cheque\\\"\",\"3268\\u20133277\"],[\"\\\"Madhavi's burnt saree\\\"\",\"3316\\u20133322\"],[\"\\\"Gokuldham in Kaun Banega Crorepati\\\"\",\"3323\\u20133326\"],[\"\\\"Marriage Proposals for Popatlal\\\"\",\"3327\\u20133332\"],[\"\\\"Popatlal Sherwani Curse\\\"\",\"3334\\u20133337\"],[\"\\\"Karela Bhoot in Taarak\\\"\",\"3338\\u20133360\"],[\"\\\"Network problem\\\"\",\"3361\\u20133368\"],[\"\\\"Tapu and Sonu as Couple\\\"\",\"3368\"],[\"\\\"The Second Deal\\\"\",\"3369\\u20133373\"],[\"\\\"Party Sharty\\\"\",\"3373\\u20133384\"],[\"\\\"Popatlal vs Bhide\\\"\",\"3385\\u20133387\"],[\"\\\"Pompom the cat in Golkuhdham\\\"\",\"3388\\u20133410\"]],\"hovertemplate\":\"Story Start Episode No.=%{x}<br>No. Episodes in Story=%{y}<br>Name=%{customdata[0]}<br>range=%{customdata[1]}<extra></extra>\",\"legendgroup\":\"\",\"line\":{\"color\":\"#636efa\",\"dash\":\"solid\"},\"marker\":{\"symbol\":\"circle\"},\"mode\":\"lines+markers\",\"name\":\"\",\"orientation\":\"v\",\"showlegend\":false,\"x\":[1,2,6,8,10,12,14,16,18,19,21,23,28,30,35,39,45,50,55,62,64,66,70,84,87,88,90,92,94,96,100,107,115,118,122,125,126,130,133,135,139,143,148,153,164,165,169,174,185,205,259,325,355,367,390,403,409,413,426,435,437,445,461,474,482,488,492,501,507,537,541,551,564,578,588,597,605,615,621,623,638,647,653,659,678,679,686,701,707,711,719,723,726,729,785,790,811,825,840,848,852,857,868,871,873,881,887,891,897,905,912,915,923,929,933,942,946,952,968,983,1001,1010,1019,1025,1057,1061,1081,1089,1113,1120,1132,1145,1154,1175,1187,1195,1203,1207,1213,1227,1219,1251,1254,1259,1265,1270,1285,1327,1342,1347,1354,1362,1365,1370,1379,1382,1408,1420,1426,1447,1465,1489,1500,1518,1525,1533,1546,1566,1573,1589,1599,1611,1624,1640,1686,1758,1822,1824,1827,1831,1868,1909,2007,2023,2095,2235,2247,2283,2384,2493,2605,2644,2693,2812,2982,3004,3009,3010,3014,3020,3029,3032,3035,3051,3063,3074,3140,3158,3194,3268,3316,3323,3327,3334,3338,3361,3368,3369,3373,3385,3388],\"xaxis\":\"x\",\"y\":[1,3,1,1,1,1,1,1,1,1,1,4,1,4,3,5,4,4,6,1,1,3,13,2,1,1,1,1,1,4,6,7,2,4,3,1,3,2,1,3,3,4,4,10,1,3,4,10,2,39,13,6,9,4,12,6,3,12,8,1,7,7,10,7,1,3,6,5,3,4,9,7,8,9,8,7,9,5,1,14,8,6,5,18,1,2,9,5,3,4,3,2,2,3,4,20,7,14,7,3,4,10,2,1,5,5,4,5,4,6,2,7,5,3,8,3,5,11,12,17,8,8,5,31,3,19,7,23,6,11,5,8,20,10,7,7,3,5,5,7,6,3,4,5,4,8,23,14,4,6,7,2,4,8,1,5,11,5,19,18,13,10,7,6,7,8,11,6,12,6,10,1,5,23,37,50,2,2,2,11,20,25,15,7,7,11,1,7,31,18,27,5,15,12,14,4,1,1,3,6,1,1,15,11,8,9,7,35,27,9,6,3,5,3,22,7,1,4,11,2,22],\"yaxis\":\"y\",\"type\":\"scatter\"}],                        {\"template\":{\"data\":{\"bar\":[{\"error_x\":{\"color\":\"#2a3f5f\"},\"error_y\":{\"color\":\"#2a3f5f\"},\"marker\":{\"line\":{\"color\":\"#E5ECF6\",\"width\":0.5},\"pattern\":{\"fillmode\":\"overlay\",\"size\":10,\"solidity\":0.2}},\"type\":\"bar\"}],\"barpolar\":[{\"marker\":{\"line\":{\"color\":\"#E5ECF6\",\"width\":0.5},\"pattern\":{\"fillmode\":\"overlay\",\"size\":10,\"solidity\":0.2}},\"type\":\"barpolar\"}],\"carpet\":[{\"aaxis\":{\"endlinecolor\":\"#2a3f5f\",\"gridcolor\":\"white\",\"linecolor\":\"white\",\"minorgridcolor\":\"white\",\"startlinecolor\":\"#2a3f5f\"},\"baxis\":{\"endlinecolor\":\"#2a3f5f\",\"gridcolor\":\"white\",\"linecolor\":\"white\",\"minorgridcolor\":\"white\",\"startlinecolor\":\"#2a3f5f\"},\"type\":\"carpet\"}],\"choropleth\":[{\"colorbar\":{\"outlinewidth\":0,\"ticks\":\"\"},\"type\":\"choropleth\"}],\"contour\":[{\"colorbar\":{\"outlinewidth\":0,\"ticks\":\"\"},\"colorscale\":[[0.0,\"#0d0887\"],[0.1111111111111111,\"#46039f\"],[0.2222222222222222,\"#7201a8\"],[0.3333333333333333,\"#9c179e\"],[0.4444444444444444,\"#bd3786\"],[0.5555555555555556,\"#d8576b\"],[0.6666666666666666,\"#ed7953\"],[0.7777777777777778,\"#fb9f3a\"],[0.8888888888888888,\"#fdca26\"],[1.0,\"#f0f921\"]],\"type\":\"contour\"}],\"contourcarpet\":[{\"colorbar\":{\"outlinewidth\":0,\"ticks\":\"\"},\"type\":\"contourcarpet\"}],\"heatmap\":[{\"colorbar\":{\"outlinewidth\":0,\"ticks\":\"\"},\"colorscale\":[[0.0,\"#0d0887\"],[0.1111111111111111,\"#46039f\"],[0.2222222222222222,\"#7201a8\"],[0.3333333333333333,\"#9c179e\"],[0.4444444444444444,\"#bd3786\"],[0.5555555555555556,\"#d8576b\"],[0.6666666666666666,\"#ed7953\"],[0.7777777777777778,\"#fb9f3a\"],[0.8888888888888888,\"#fdca26\"],[1.0,\"#f0f921\"]],\"type\":\"heatmap\"}],\"heatmapgl\":[{\"colorbar\":{\"outlinewidth\":0,\"ticks\":\"\"},\"colorscale\":[[0.0,\"#0d0887\"],[0.1111111111111111,\"#46039f\"],[0.2222222222222222,\"#7201a8\"],[0.3333333333333333,\"#9c179e\"],[0.4444444444444444,\"#bd3786\"],[0.5555555555555556,\"#d8576b\"],[0.6666666666666666,\"#ed7953\"],[0.7777777777777778,\"#fb9f3a\"],[0.8888888888888888,\"#fdca26\"],[1.0,\"#f0f921\"]],\"type\":\"heatmapgl\"}],\"histogram\":[{\"marker\":{\"pattern\":{\"fillmode\":\"overlay\",\"size\":10,\"solidity\":0.2}},\"type\":\"histogram\"}],\"histogram2d\":[{\"colorbar\":{\"outlinewidth\":0,\"ticks\":\"\"},\"colorscale\":[[0.0,\"#0d0887\"],[0.1111111111111111,\"#46039f\"],[0.2222222222222222,\"#7201a8\"],[0.3333333333333333,\"#9c179e\"],[0.4444444444444444,\"#bd3786\"],[0.5555555555555556,\"#d8576b\"],[0.6666666666666666,\"#ed7953\"],[0.7777777777777778,\"#fb9f3a\"],[0.8888888888888888,\"#fdca26\"],[1.0,\"#f0f921\"]],\"type\":\"histogram2d\"}],\"histogram2dcontour\":[{\"colorbar\":{\"outlinewidth\":0,\"ticks\":\"\"},\"colorscale\":[[0.0,\"#0d0887\"],[0.1111111111111111,\"#46039f\"],[0.2222222222222222,\"#7201a8\"],[0.3333333333333333,\"#9c179e\"],[0.4444444444444444,\"#bd3786\"],[0.5555555555555556,\"#d8576b\"],[0.6666666666666666,\"#ed7953\"],[0.7777777777777778,\"#fb9f3a\"],[0.8888888888888888,\"#fdca26\"],[1.0,\"#f0f921\"]],\"type\":\"histogram2dcontour\"}],\"mesh3d\":[{\"colorbar\":{\"outlinewidth\":0,\"ticks\":\"\"},\"type\":\"mesh3d\"}],\"parcoords\":[{\"line\":{\"colorbar\":{\"outlinewidth\":0,\"ticks\":\"\"}},\"type\":\"parcoords\"}],\"pie\":[{\"automargin\":true,\"type\":\"pie\"}],\"scatter\":[{\"marker\":{\"colorbar\":{\"outlinewidth\":0,\"ticks\":\"\"}},\"type\":\"scatter\"}],\"scatter3d\":[{\"line\":{\"colorbar\":{\"outlinewidth\":0,\"ticks\":\"\"}},\"marker\":{\"colorbar\":{\"outlinewidth\":0,\"ticks\":\"\"}},\"type\":\"scatter3d\"}],\"scattercarpet\":[{\"marker\":{\"colorbar\":{\"outlinewidth\":0,\"ticks\":\"\"}},\"type\":\"scattercarpet\"}],\"scattergeo\":[{\"marker\":{\"colorbar\":{\"outlinewidth\":0,\"ticks\":\"\"}},\"type\":\"scattergeo\"}],\"scattergl\":[{\"marker\":{\"colorbar\":{\"outlinewidth\":0,\"ticks\":\"\"}},\"type\":\"scattergl\"}],\"scattermapbox\":[{\"marker\":{\"colorbar\":{\"outlinewidth\":0,\"ticks\":\"\"}},\"type\":\"scattermapbox\"}],\"scatterpolar\":[{\"marker\":{\"colorbar\":{\"outlinewidth\":0,\"ticks\":\"\"}},\"type\":\"scatterpolar\"}],\"scatterpolargl\":[{\"marker\":{\"colorbar\":{\"outlinewidth\":0,\"ticks\":\"\"}},\"type\":\"scatterpolargl\"}],\"scatterternary\":[{\"marker\":{\"colorbar\":{\"outlinewidth\":0,\"ticks\":\"\"}},\"type\":\"scatterternary\"}],\"surface\":[{\"colorbar\":{\"outlinewidth\":0,\"ticks\":\"\"},\"colorscale\":[[0.0,\"#0d0887\"],[0.1111111111111111,\"#46039f\"],[0.2222222222222222,\"#7201a8\"],[0.3333333333333333,\"#9c179e\"],[0.4444444444444444,\"#bd3786\"],[0.5555555555555556,\"#d8576b\"],[0.6666666666666666,\"#ed7953\"],[0.7777777777777778,\"#fb9f3a\"],[0.8888888888888888,\"#fdca26\"],[1.0,\"#f0f921\"]],\"type\":\"surface\"}],\"table\":[{\"cells\":{\"fill\":{\"color\":\"#EBF0F8\"},\"line\":{\"color\":\"white\"}},\"header\":{\"fill\":{\"color\":\"#C8D4E3\"},\"line\":{\"color\":\"white\"}},\"type\":\"table\"}]},\"layout\":{\"annotationdefaults\":{\"arrowcolor\":\"#2a3f5f\",\"arrowhead\":0,\"arrowwidth\":1},\"autotypenumbers\":\"strict\",\"coloraxis\":{\"colorbar\":{\"outlinewidth\":0,\"ticks\":\"\"}},\"colorscale\":{\"diverging\":[[0,\"#8e0152\"],[0.1,\"#c51b7d\"],[0.2,\"#de77ae\"],[0.3,\"#f1b6da\"],[0.4,\"#fde0ef\"],[0.5,\"#f7f7f7\"],[0.6,\"#e6f5d0\"],[0.7,\"#b8e186\"],[0.8,\"#7fbc41\"],[0.9,\"#4d9221\"],[1,\"#276419\"]],\"sequential\":[[0.0,\"#0d0887\"],[0.1111111111111111,\"#46039f\"],[0.2222222222222222,\"#7201a8\"],[0.3333333333333333,\"#9c179e\"],[0.4444444444444444,\"#bd3786\"],[0.5555555555555556,\"#d8576b\"],[0.6666666666666666,\"#ed7953\"],[0.7777777777777778,\"#fb9f3a\"],[0.8888888888888888,\"#fdca26\"],[1.0,\"#f0f921\"]],\"sequentialminus\":[[0.0,\"#0d0887\"],[0.1111111111111111,\"#46039f\"],[0.2222222222222222,\"#7201a8\"],[0.3333333333333333,\"#9c179e\"],[0.4444444444444444,\"#bd3786\"],[0.5555555555555556,\"#d8576b\"],[0.6666666666666666,\"#ed7953\"],[0.7777777777777778,\"#fb9f3a\"],[0.8888888888888888,\"#fdca26\"],[1.0,\"#f0f921\"]]},\"colorway\":[\"#636efa\",\"#EF553B\",\"#00cc96\",\"#ab63fa\",\"#FFA15A\",\"#19d3f3\",\"#FF6692\",\"#B6E880\",\"#FF97FF\",\"#FECB52\"],\"font\":{\"color\":\"#2a3f5f\"},\"geo\":{\"bgcolor\":\"white\",\"lakecolor\":\"white\",\"landcolor\":\"#E5ECF6\",\"showlakes\":true,\"showland\":true,\"subunitcolor\":\"white\"},\"hoverlabel\":{\"align\":\"left\"},\"hovermode\":\"closest\",\"mapbox\":{\"style\":\"light\"},\"paper_bgcolor\":\"white\",\"plot_bgcolor\":\"#E5ECF6\",\"polar\":{\"angularaxis\":{\"gridcolor\":\"white\",\"linecolor\":\"white\",\"ticks\":\"\"},\"bgcolor\":\"#E5ECF6\",\"radialaxis\":{\"gridcolor\":\"white\",\"linecolor\":\"white\",\"ticks\":\"\"}},\"scene\":{\"xaxis\":{\"backgroundcolor\":\"#E5ECF6\",\"gridcolor\":\"white\",\"gridwidth\":2,\"linecolor\":\"white\",\"showbackground\":true,\"ticks\":\"\",\"zerolinecolor\":\"white\"},\"yaxis\":{\"backgroundcolor\":\"#E5ECF6\",\"gridcolor\":\"white\",\"gridwidth\":2,\"linecolor\":\"white\",\"showbackground\":true,\"ticks\":\"\",\"zerolinecolor\":\"white\"},\"zaxis\":{\"backgroundcolor\":\"#E5ECF6\",\"gridcolor\":\"white\",\"gridwidth\":2,\"linecolor\":\"white\",\"showbackground\":true,\"ticks\":\"\",\"zerolinecolor\":\"white\"}},\"shapedefaults\":{\"line\":{\"color\":\"#2a3f5f\"}},\"ternary\":{\"aaxis\":{\"gridcolor\":\"white\",\"linecolor\":\"white\",\"ticks\":\"\"},\"baxis\":{\"gridcolor\":\"white\",\"linecolor\":\"white\",\"ticks\":\"\"},\"bgcolor\":\"#E5ECF6\",\"caxis\":{\"gridcolor\":\"white\",\"linecolor\":\"white\",\"ticks\":\"\"}},\"title\":{\"x\":0.05},\"xaxis\":{\"automargin\":true,\"gridcolor\":\"white\",\"linecolor\":\"white\",\"ticks\":\"\",\"title\":{\"standoff\":15},\"zerolinecolor\":\"white\",\"zerolinewidth\":2},\"yaxis\":{\"automargin\":true,\"gridcolor\":\"white\",\"linecolor\":\"white\",\"ticks\":\"\",\"title\":{\"standoff\":15},\"zerolinecolor\":\"white\",\"zerolinewidth\":2}}},\"xaxis\":{\"anchor\":\"y\",\"domain\":[0.0,1.0],\"title\":{\"text\":\"Story Start Episode No.\"}},\"yaxis\":{\"anchor\":\"x\",\"domain\":[0.0,1.0],\"title\":{\"text\":\"No. Episodes in Story\"}},\"legend\":{\"tracegroupgap\":0},\"title\":{\"text\":\"Taarak Mehta Story vs No. of Episodes\"}},                        {\"responsive\": true}                    ).then(function(){\n",
              "                            \n",
              "var gd = document.getElementById('e38642e0-0bcc-46b1-b205-0ed7b3e6e081');\n",
              "var x = new MutationObserver(function (mutations, observer) {{\n",
              "        var display = window.getComputedStyle(gd).display;\n",
              "        if (!display || display === 'none') {{\n",
              "            console.log([gd, 'removed!']);\n",
              "            Plotly.purge(gd);\n",
              "            observer.disconnect();\n",
              "        }}\n",
              "}});\n",
              "\n",
              "// Listen for the removal of the full notebook cells\n",
              "var notebookContainer = gd.closest('#notebook-container');\n",
              "if (notebookContainer) {{\n",
              "    x.observe(notebookContainer, {childList: true});\n",
              "}}\n",
              "\n",
              "// Listen for the clearing of the current output cell\n",
              "var outputEl = gd.closest('.output');\n",
              "if (outputEl) {{\n",
              "    x.observe(outputEl, {childList: true});\n",
              "}}\n",
              "\n",
              "                        })                };                            </script>        </div>\n",
              "</body>\n",
              "</html>"
            ]
          },
          "metadata": {}
        }
      ]
    },
    {
      "cell_type": "markdown",
      "source": [
        "# By this Analysis we can conclude\n",
        "- New Stories were more frequent in in the start \n",
        "- The show is becomming lengthy over time starting from episode 1600's to 3000's \n",
        "- The frequency of sotries is again increasing \n",
        "\n",
        "also the stories with most no of episodes are most of times lengthy and just boring\n"
      ],
      "metadata": {
        "id": "MVtTurCN2BRW"
      }
    }
  ]
}